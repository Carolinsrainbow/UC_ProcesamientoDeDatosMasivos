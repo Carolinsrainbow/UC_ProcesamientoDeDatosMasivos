{
 "cells": [
  {
   "cell_type": "code",
   "execution_count": 0,
   "metadata": {
    "application/vnd.databricks.v1+cell": {
     "cellMetadata": {
      "byteLimit": 2048000,
      "rowLimit": 10000
     },
     "inputWidgets": {},
     "nuid": "953b0d06-a866-4b22-be5f-930ad7e9d111",
     "showTitle": false,
     "tableResultSettingsMap": {},
     "title": ""
    }
   },
   "outputs": [
    {
     "output_type": "display_data",
     "data": {
      "text/html": [
       "\n",
       "        <div>\n",
       "            <p><b>SparkContext</b></p>\n",
       "\n",
       "            <p><a href=\"/?o=1336986322107832#setting/sparkui/1221-200009-ykf5da1o/driver-100361455438243024\">Spark UI</a></p>\n",
       "\n",
       "            <dl>\n",
       "              <dt>Version</dt>\n",
       "                <dd><code>v3.3.2</code></dd>\n",
       "              <dt>Master</dt>\n",
       "                <dd><code>local[8]</code></dd>\n",
       "              <dt>AppName</dt>\n",
       "                <dd><code>Databricks Shell</code></dd>\n",
       "            </dl>\n",
       "        </div>\n",
       "        "
      ]
     },
     "metadata": {
      "application/vnd.databricks.v1+output": {
       "addedWidgets": {},
       "arguments": {},
       "data": "\n        <div>\n            <p><b>SparkContext</b></p>\n\n            <p><a href=\"/?o=1336986322107832#setting/sparkui/1221-200009-ykf5da1o/driver-100361455438243024\">Spark UI</a></p>\n\n            <dl>\n              <dt>Version</dt>\n                <dd><code>v3.3.2</code></dd>\n              <dt>Master</dt>\n                <dd><code>local[8]</code></dd>\n              <dt>AppName</dt>\n                <dd><code>Databricks Shell</code></dd>\n            </dl>\n        </div>\n        ",
       "datasetInfos": [],
       "metadata": {},
       "removedWidgets": [],
       "textData": null,
       "type": "htmlSandbox"
      }
     },
     "output_type": "display_data"
    }
   ],
   "source": [
    "sc"
   ]
  },
  {
   "cell_type": "code",
   "execution_count": 0,
   "metadata": {
    "application/vnd.databricks.v1+cell": {
     "cellMetadata": {
      "byteLimit": 2048000,
      "rowLimit": 10000
     },
     "inputWidgets": {},
     "nuid": "eb75d623-b103-4661-ae61-9cca6d6404e7",
     "showTitle": false,
     "tableResultSettingsMap": {},
     "title": ""
    }
   },
   "outputs": [],
   "source": [
    "#importamos datos ajustando por objeto de separación:\n",
    "mascotas = sc.textFile(\"/FileStore/tables/mascotas_1_.csv\").map(lambda line: line.split(\";\"))\n",
    "personas = sc.textFile(\"/FileStore/tables/personas_1_.csv\").map(lambda line: line.split(\";\"))"
   ]
  },
  {
   "cell_type": "code",
   "execution_count": 0,
   "metadata": {
    "application/vnd.databricks.v1+cell": {
     "cellMetadata": {
      "byteLimit": 2048000,
      "rowLimit": 10000
     },
     "inputWidgets": {},
     "nuid": "93e9cd27-745c-4185-a277-bb9e1a5ebcf1",
     "showTitle": false,
     "tableResultSettingsMap": {},
     "title": ""
    }
   },
   "outputs": [
    {
     "output_type": "stream",
     "name": "stdout",
     "output_type": "stream",
     "text": [
      "Out[33]: [['1', 'Debra', 'Conejo', '44'],\n ['2', 'Carolyn', 'Gato', '7'],\n ['3', 'Tracy', 'Hámster', '21'],\n ['4', 'Nicholas', 'Conejo', '33'],\n ['5', 'Amanda', 'Pez', '38'],\n ['6', 'William', 'Perro', '25'],\n ['7', 'Elizabeth', 'Pez', '24'],\n ['8', 'Edward', 'Pájaro', '14'],\n ['9', 'Brian', 'Pájaro', '4'],\n ['10', 'Melvin', 'Tortuga', '44'],\n ['11', 'Karen', 'Pájaro', '47'],\n ['12', 'Cassandra', 'Gato', '4'],\n ['13', 'Bill', 'Pájaro', '21'],\n ['14', 'Kathy', 'Conejo', '3'],\n ['15', 'Justin', 'Gato', '33'],\n ['16', 'Steven', 'Tortuga', '12'],\n ['17', 'Susan', 'Pájaro', '31'],\n ['18', 'Charles', 'Gato', '5'],\n ['19', 'Shannon', 'Gato', '5'],\n ['20', 'Mark', 'Pez', '20'],\n ['21', 'Kristi', 'Conejo', '4'],\n ['22', 'Kathryn', 'Hámster', '36'],\n ['23', 'Donald', 'Hámster', '24'],\n ['24', 'Tracey', 'Pez', '49'],\n ['25', 'Dale', 'Tortuga', '18'],\n ['26', 'Karen', 'Conejo', '41'],\n ['27', 'Ryan', 'Perro', '4'],\n ['28', 'Carl', 'Perro', '8'],\n ['29', 'Tiffany', 'Gato', '25'],\n ['30', 'Cindy', 'Perro', '10'],\n ['31', 'John', 'Conejo', '19'],\n ['32', 'Alexis', 'Gato', '29'],\n ['33', 'Patricia', 'Pez', '25'],\n ['34', 'Michael', 'Perro', '29'],\n ['35', 'Laura', 'Perro', '35'],\n ['36', 'James', 'Hámster', '47'],\n ['37', 'Charles', 'Gato', '50'],\n ['38', 'Stephanie', 'Pájaro', '8'],\n ['39', 'Crystal', 'Tortuga', '31'],\n ['40', 'Sandra', 'Pez', '35'],\n ['41', 'Peter', 'Perro', '40'],\n ['42', 'David', 'Conejo', '16'],\n ['43', 'Peter', 'Pez', '38'],\n ['44', 'Marie', 'Perro', '37'],\n ['45', 'Joshua', 'Conejo', '26'],\n ['46', 'Douglas', 'Tortuga', '23'],\n ['47', 'Jennifer', 'Tortuga', '37'],\n ['48', 'John', 'Gato', '38'],\n ['49', 'Amanda', 'Pájaro', '40'],\n ['50', 'Dana', 'Pájaro', '28'],\n ['51', 'Brittany', 'Tortuga', '25'],\n ['52', 'Christopher', 'Conejo', '29'],\n ['53', 'Michael', 'Tortuga', '35'],\n ['54', 'Michael', 'Pez', '44'],\n ['55', 'Richard', 'Perro', '1'],\n ['56', 'Seth', 'Pez', '34'],\n ['57', 'Justin', 'Pez', '50'],\n ['58', 'Jennifer', 'Pájaro', '44'],\n ['59', 'Grace', 'Gato', '23'],\n ['60', 'Sarah', 'Conejo', '14'],\n ['61', 'Amanda', 'Perro', '17'],\n ['62', 'Erin', 'Gato', '42'],\n ['63', 'Patricia', 'Gato', '10'],\n ['64', 'Dawn', 'Conejo', '5'],\n ['65', 'Breanna', 'Gato', '4'],\n ['66', 'Dana', 'Gato', '21'],\n ['67', 'Terri', 'Pez', '8'],\n ['68', 'Logan', 'Hámster', '35'],\n ['69', 'Heather', 'Gato', '5'],\n ['70', 'James', 'Conejo', '21'],\n ['71', 'Jonathan', 'Perro', '43'],\n ['72', 'Monique', 'Tortuga', '5'],\n ['73', 'Joel', 'Pez', '37'],\n ['74', 'Amy', 'Perro', '21'],\n ['75', 'David', 'Conejo', '30'],\n ['76', 'Robert', 'Hámster', '30'],\n ['77', 'Lori', 'Conejo', '27'],\n ['78', 'Brandon', 'Hámster', '22'],\n ['79', 'Mark', 'Tortuga', '23'],\n ['80', 'Timothy', 'Tortuga', '23'],\n ['81', 'Crystal', 'Hámster', '27'],\n ['82', 'Julie', 'Conejo', '28'],\n ['83', 'Joel', 'Pájaro', '11'],\n ['84', 'Leah', 'Pájaro', '13'],\n ['85', 'John', 'Gato', '26'],\n ['86', 'Michelle', 'Hámster', '43'],\n ['87', 'Heather', 'Pájaro', '21'],\n ['88', 'Teresa', 'Conejo', '40'],\n ['89', 'Amanda', 'Tortuga', '42'],\n ['90', 'William', 'Conejo', '23'],\n ['91', 'Catherine', 'Pez', '20'],\n ['92', 'Tina', 'Gato', '37'],\n ['93', 'Daniel', 'Conejo', '10'],\n ['94', 'Mary', 'Tortuga', '7'],\n ['95', 'Wendy', 'Tortuga', '20'],\n ['96', 'Mallory', 'Conejo', '15'],\n ['97', 'Veronica', 'Hámster', '34'],\n ['98', 'Beth', 'Tortuga', '41'],\n ['99', 'David', 'Pájaro', '32'],\n ['100', 'Judy', 'Perro', '13'],\n ['101', 'Christopher', 'Hámster', '44'],\n ['102', 'Gina', 'Conejo', '33'],\n ['103', 'Angela', 'Hámster', '32'],\n ['104', 'Katelyn', 'Perro', '25'],\n ['105', 'Brian', 'Conejo', '45'],\n ['106', 'Joe', 'Tortuga', '43'],\n ['107', 'Shawn', 'Pájaro', '2'],\n ['108', 'David', 'Conejo', '39'],\n ['109', 'Debbie', 'Perro', '19'],\n ['110', 'Kayla', 'Hámster', '46'],\n ['111', 'Shelby', 'Tortuga', '24'],\n ['112', 'Carolyn', 'Hámster', '36'],\n ['113', 'Victoria', 'Hámster', '9'],\n ['114', 'Diana', 'Gato', '43'],\n ['115', 'David', 'Pez', '11'],\n ['116', 'Jennifer', 'Conejo', '46'],\n ['117', 'Phillip', 'Tortuga', '9'],\n ['118', 'Mason', 'Hámster', '39'],\n ['119', 'Heather', 'Pájaro', '37'],\n ['120', 'Douglas', 'Conejo', '47'],\n ['121', 'Barbara', 'Perro', '49'],\n ['122', 'Anthony', 'Pájaro', '24'],\n ['123', 'Julie', 'Perro', '49'],\n ['124', 'Stanley', 'Conejo', '18'],\n ['125', 'Geoffrey', 'Perro', '36'],\n ['126', 'Laura', 'Conejo', '48'],\n ['127', 'Kristina', 'Hámster', '9'],\n ['128', 'Randy', 'Hámster', '38'],\n ['129', 'Sheri', 'Tortuga', '14'],\n ['130', 'Michelle', 'Tortuga', '16'],\n ['131', 'Marie', 'Tortuga', '10'],\n ['132', 'Catherine', 'Pájaro', '9'],\n ['133', 'Danielle', 'Perro', '3'],\n ['134', 'Carlos', 'Pájaro', '40'],\n ['135', 'Jennifer', 'Pez', '13'],\n ['136', 'Jerome', 'Perro', '12'],\n ['137', 'Bryan', 'Pájaro', '25'],\n ['138', 'Levi', 'Pez', '9'],\n ['139', 'Amy', 'Pez', '28'],\n ['140', 'Angela', 'Pez', '29'],\n ['141', 'Penny', 'Hámster', '7'],\n ['142', 'Tina', 'Conejo', '27'],\n ['143', 'Michael', 'Gato', '26'],\n ['144', 'Jessica', 'Pájaro', '49'],\n ['145', 'Caitlin', 'Conejo', '30'],\n ['146', 'Wesley', 'Pájaro', '33'],\n ['147', 'Darrell', 'Tortuga', '50'],\n ['148', 'Kevin', 'Perro', '19'],\n ['149', 'Nancy', 'Hámster', '33'],\n ['150', 'Sheila', 'Tortuga', '1'],\n ['151', 'Theresa', 'Perro', '48'],\n ['152', 'David', 'Conejo', '24'],\n ['153', 'Susan', 'Conejo', '46'],\n ['154', 'John', 'Gato', '40'],\n ['155', 'John', 'Conejo', '9'],\n ['156', 'Justin', 'Gato', '18'],\n ['157', 'Jennifer', 'Tortuga', '6'],\n ['158', 'Cassandra', 'Tortuga', '44'],\n ['159', 'David', 'Perro', '21'],\n ['160', 'Jamie', 'Pez', '30'],\n ['161', 'Chelsea', 'Gato', '17'],\n ['162', 'Jonathan', 'Tortuga', '16'],\n ['163', 'Brenda', 'Pájaro', '13'],\n ['164', 'Timothy', 'Gato', '26'],\n ['165', 'Michelle', 'Perro', '6'],\n ['166', 'Michael', 'Perro', '30'],\n ['167', 'Bobby', 'Hámster', '38'],\n ['168', 'Elizabeth', 'Hámster', '42'],\n ['169', 'Mark', 'Hámster', '24'],\n ['170', 'Derek', 'Gato', '20'],\n ['171', 'Erin', 'Pájaro', '37'],\n ['172', 'Omar', 'Tortuga', '34'],\n ['173', 'Thomas', 'Tortuga', '21'],\n ['174', 'William', 'Hámster', '34'],\n ['175', 'Kathy', 'Gato', '50'],\n ['176', 'Jeremy', 'Conejo', '19'],\n ['177', 'Cameron', 'Perro', '4'],\n ['178', 'William', 'Hámster', '4'],\n ['179', 'Jesse', 'Gato', '21'],\n ['180', 'Scott', 'Conejo', '6'],\n ['181', 'Douglas', 'Gato', '7'],\n ['182', 'Monica', 'Perro', '38'],\n ['183', 'Kimberly', 'Conejo', '43'],\n ['184', 'Michael', 'Hámster', '14'],\n ['185', 'Adriana', 'Conejo', '43'],\n ['186', 'Christopher', 'Tortuga', '48'],\n ['187', 'Joseph', 'Tortuga', '16'],\n ['188', 'Crystal', 'Tortuga', '18'],\n ['189', 'Haley', 'Perro', '8'],\n ['190', 'Jeremy', 'Conejo', '10'],\n ['191', 'Robert', 'Perro', '30'],\n ['192', 'Tiffany', 'Tortuga', '27'],\n ['193', 'Stacey', 'Perro', '33'],\n ['194', 'Benjamin', 'Tortuga', '42'],\n ['195', 'Matthew', 'Hámster', '45'],\n ['196', 'Amy', 'Pájaro', '21'],\n ['197', 'Duane', 'Pez', '38'],\n ['198', 'James', 'Pájaro', '31'],\n ['199', 'Kimberly', 'Tortuga', '3'],\n ['200', 'Stacy', 'Conejo', '22']]"
     ]
    }
   ],
   "source": [
    "mascotas.collect()"
   ]
  },
  {
   "cell_type": "code",
   "execution_count": 0,
   "metadata": {
    "application/vnd.databricks.v1+cell": {
     "cellMetadata": {
      "byteLimit": 2048000,
      "rowLimit": 10000
     },
     "inputWidgets": {},
     "nuid": "495eea6a-ed02-42aa-a157-fb056b3728af",
     "showTitle": false,
     "tableResultSettingsMap": {},
     "title": ""
    }
   },
   "outputs": [
    {
     "output_type": "stream",
     "name": "stdout",
     "output_type": "stream",
     "text": [
      "Out[34]: [['1',\n  'Matthew Miller',\n  '12117 Jonathan Mews Suite 325, West Mary, ME 18455',\n  '50'],\n ['2', 'Anne Dennis', '6923 Joshua Ferry, Michellebury, RI 03648', '68'],\n ['3', 'Stephen Ruiz', '933 Kimberly Track, Port Wendy, WA 21399', '46'],\n ['4',\n  'Renee Scott MD',\n  '84454 Gentry Glen, New Wendyborough, MP 82681',\n  '61'],\n ['5', 'Terrance Berger', '121 Barnett Turnpike, Lake Joshua, GA 25037', '51'],\n ['6', 'Tammy Smith', '546 Chad Roads Suite 062, Carolton, LA 52470', '66'],\n ['7', 'Colin Cooper', 'Unit 9942 Box 7052, DPO AE 49088', '54'],\n ['8',\n  'Evelyn Fitzgerald',\n  '2987 Bowman Walk Suite 304, West Michelle, GA 37196',\n  '26'],\n ['9', 'Dr. Jason Delgado', 'Unit 9169 Box 2482, DPO AA 20129', '66'],\n ['10', 'Mark Garza PhD', '05090 Duncan Ridges, Thompsonberg, PR 29511', '29'],\n ['11',\n  'Jonathan Hicks',\n  '880 Danielle Causeway, West Ashley, WI 46252',\n  '52'],\n ['12', 'Christopher Stewart', '57420 Ware Pike, Averytown, ND 17297', '67'],\n ['13',\n  'Stephanie Alexander',\n  '248 Clark View Suite 541, Daychester, FM 43478',\n  '36'],\n ['14', 'Kimberly Hernandez', '812 Coleman Neck, Brooksside, MI 52435', '66'],\n ['15',\n  'Brandy Nguyen',\n  '0753 Joshua Streets, West Veronicafurt, MA 84154',\n  '32'],\n ['16',\n  'Pamela Christensen',\n  '330 Nichols Mill, Martinezshire, AS 06322',\n  '29'],\n ['17',\n  'Jerry Barker',\n  '643 Johnson Point Apt. 415, Weststad, RI 42349',\n  '31'],\n ['18',\n  'John Case',\n  '46203 Martinez Fork Apt. 026, East Nancy, OR 28626',\n  '62'],\n ['19',\n  'Anna Moran',\n  '66433 White Forges Apt. 941, West Michael, MO 79769',\n  '27'],\n ['20',\n  'Jeffrey Welch',\n  '6192 Nguyen Summit Suite 614, Williamsburgh, VT 23238',\n  '62'],\n ['21', 'Eric Mccullough', 'PSC 1705, Box 7389, APO AA 82181', '65'],\n ['22', 'Joshua Johnson', '154 Jonathan Pine, Fordmouth, WA 98935', '20'],\n ['23',\n  'Paul Martinez',\n  '955 Jackson Springs, Lake Curtisbury, FM 69790',\n  '43'],\n ['24', 'Daniel Hardin', 'PSC 6290, Box 8038, APO AP 05225', '69'],\n ['25', 'Kristy King', '3161 Kathryn Islands, Lake Tammyland, MH 34528', '47'],\n ['26',\n  'Nicholas Kim',\n  '74929 Bryant Turnpike, North Jacqueline, ID 58037',\n  '40'],\n ['27',\n  'Jerry Hall',\n  '9038 Ann Hill Suite 813, East Katherine, MH 61664',\n  '35'],\n ['28', 'James Castro', '099 West Vista, South Jonathan, AZ 71418', '59'],\n ['29',\n  'Tracy Spears',\n  '748 Matthew Underpass Suite 052, North Timothy, MT 89294',\n  '28'],\n ['30', 'Anthony Pearson', '2060 Ashley Cape, Reevesstad, MN 74587', '63'],\n ['31', 'Andrea Lee', 'PSC 6676, Box 0342, APO AE 63877', '41'],\n ['32',\n  'Dr. Krista Diaz',\n  '533 Hopkins Cape Suite 972, East Andrewburgh, WY 24645',\n  '69'],\n ['33',\n  'Justin Nunez',\n  '124 Atkinson Knoll Suite 778, New Kim, DC 38960',\n  '23'],\n ['34',\n  'Phillip Keith',\n  '8328 Stephens Cape Suite 655, South Rebeccaside, PA 50886',\n  '66'],\n ['35',\n  'Jennifer Huerta',\n  '7402 Adams Prairie Apt. 836, South Kimberly, AR 29540',\n  '30'],\n ['36',\n  'Robert Franklin',\n  '39388 Nelson Skyway Apt. 310, North Melissachester, WA 00560',\n  '49'],\n ['37',\n  'Lori Daniel',\n  '9565 Reyes Causeway Suite 691, Lake Rubenchester, VA 34103',\n  '30'],\n ['38',\n  'Alexandra Brock',\n  '238 Wilson Alley Apt. 703, South Shannonchester, KY 05489',\n  '20'],\n ['39',\n  'Michael Robinson',\n  '45973 Buck Ville Suite 964, Karihaven, TX 21246',\n  '67'],\n ['40', 'Zachary Lawson', '3363 Zimmerman Street, Jillton, AK 62160', '25'],\n ['41', 'Curtis Carlson', '896 Leon Mews, Munozburgh, NJ 54134', '20'],\n ['42', 'Whitney Peters', '1941 Lewis Mews, Port Jesseshire, NC 67801', '44'],\n ['43',\n  'Louis Powell',\n  '8934 Jackson Mountains, Nicholsonburgh, AL 47738',\n  '33'],\n ['44', 'Shane Arroyo', 'USNV Davis, FPO AE 12850', '43'],\n ['45',\n  'Crystal Logan',\n  '0014 Paula Squares Suite 757, North Amanda, ID 85520',\n  '50'],\n ['46',\n  'Amanda Curry',\n  '304 Amber Crest Suite 198, West Jessica, PR 60797',\n  '55'],\n ['47',\n  'Steven Parks DDS',\n  '8672 Erica Locks Apt. 795, Bassview, SC 44059',\n  '53'],\n ['48', 'Carolyn Roberts', '54409 Jennifer Hollow, Hillview, PR 91579', '65'],\n ['49', 'Ann Fitzgerald', '131 Stewart Wall, North Jamiefurt, MS 22758', '20'],\n ['50',\n  'James Garcia',\n  '74666 Reeves Track Suite 506, Port Lindachester, NY 04439',\n  '49']]"
     ]
    }
   ],
   "source": [
    "personas.collect()"
   ]
  },
  {
   "cell_type": "markdown",
   "metadata": {
    "application/vnd.databricks.v1+cell": {
     "cellMetadata": {
      "byteLimit": 2048000,
      "rowLimit": 10000
     },
     "inputWidgets": {},
     "nuid": "03c53809-c8bd-44a7-97d3-153df20f3b20",
     "showTitle": false,
     "tableResultSettingsMap": {},
     "title": ""
    }
   },
   "source": [
    "Parte I: Crea un programa que devuelve cada nombre de mascota y su tipo, junto con el nombre de su dueño. Es decir, tu programa debe entregar, para cada mascota en tus datos, el nombre de la mascota, el tipo de mascota (por ejemplo, perro, gato, etc.) y el nombre del dueño de la mascota."
   ]
  },
  {
   "cell_type": "code",
   "execution_count": 0,
   "metadata": {
    "application/vnd.databricks.v1+cell": {
     "cellMetadata": {
      "byteLimit": 2048000,
      "rowLimit": 10000
     },
     "inputWidgets": {},
     "nuid": "dc4c7a70-ed50-452f-93e2-bcd8f3d64437",
     "showTitle": false,
     "tableResultSettingsMap": {},
     "title": ""
    }
   },
   "outputs": [],
   "source": [
    "#preparamos los datos para el primer join:\n",
    "mascotas_1 = mascotas.map(lambda m: (m[3], (m[1], m[2])))  # (id_dueño, (nombre_mascota, tipo_mascota))\n",
    "personas_1 = personas.map(lambda p: (p[0], p[1]))  # (id_persona, nombre_persona)"
   ]
  },
  {
   "cell_type": "code",
   "execution_count": 0,
   "metadata": {
    "application/vnd.databricks.v1+cell": {
     "cellMetadata": {
      "byteLimit": 2048000,
      "rowLimit": 10000
     },
     "inputWidgets": {},
     "nuid": "9754c955-9d36-4ad3-9131-32750bfc8f2e",
     "showTitle": false,
     "tableResultSettingsMap": {},
     "title": ""
    }
   },
   "outputs": [],
   "source": [
    "#unimos los datos previamente preparados:\n",
    "join_1 = mascotas_1.join(personas_1)  # (id_dueño, ((nombre_mascota, tipo_mascota), nombre_persona))"
   ]
  },
  {
   "cell_type": "code",
   "execution_count": 0,
   "metadata": {
    "application/vnd.databricks.v1+cell": {
     "cellMetadata": {
      "byteLimit": 2048000,
      "rowLimit": 10000
     },
     "inputWidgets": {},
     "nuid": "01903214-1fa6-4c79-8f88-5fa81ecfa260",
     "showTitle": false,
     "tableResultSettingsMap": {},
     "title": ""
    }
   },
   "outputs": [],
   "source": [
    "#transformamos el resultado como pide la instrucción:\n",
    "resultado_1 = join_1.map(lambda x: (x[1][0][0], x[1][0][1], x[1][1]))  # (nombre_mascota, tipo_mascota, nombre_persona)\n"
   ]
  },
  {
   "cell_type": "code",
   "execution_count": 0,
   "metadata": {
    "application/vnd.databricks.v1+cell": {
     "cellMetadata": {
      "byteLimit": 2048000,
      "rowLimit": 10000
     },
     "inputWidgets": {},
     "nuid": "422ff2ac-d6b4-446e-8df1-b3f31b51e4a4",
     "showTitle": false,
     "tableResultSettingsMap": {},
     "title": ""
    }
   },
   "outputs": [
    {
     "output_type": "stream",
     "name": "stdout",
     "output_type": "stream",
     "text": [
      "Out[38]: [('Debra', 'Conejo', 'Shane Arroyo'),\n ('Melvin', 'Tortuga', 'Shane Arroyo'),\n ('Michael', 'Pez', 'Shane Arroyo'),\n ('Jennifer', 'Pájaro', 'Shane Arroyo'),\n ('Christopher', 'Hámster', 'Shane Arroyo'),\n ('Cassandra', 'Tortuga', 'Shane Arroyo'),\n ('Elizabeth', 'Pez', 'Daniel Hardin'),\n ('Donald', 'Hámster', 'Daniel Hardin'),\n ('Shelby', 'Tortuga', 'Daniel Hardin'),\n ('Anthony', 'Pájaro', 'Daniel Hardin'),\n ('David', 'Conejo', 'Daniel Hardin'),\n ('Mark', 'Hámster', 'Daniel Hardin'),\n ('Brian', 'Pájaro', 'Renee Scott MD'),\n ('Cassandra', 'Gato', 'Renee Scott MD'),\n ('Kristi', 'Conejo', 'Renee Scott MD'),\n ('Ryan', 'Perro', 'Renee Scott MD'),\n ('Breanna', 'Gato', 'Renee Scott MD'),\n ('Cameron', 'Perro', 'Renee Scott MD'),\n ('William', 'Hámster', 'Renee Scott MD'),\n ('Steven', 'Tortuga', 'Christopher Stewart'),\n ('Jerome', 'Perro', 'Christopher Stewart'),\n ('Mark', 'Pez', 'Jeffrey Welch'),\n ('Catherine', 'Pez', 'Jeffrey Welch'),\n ('Wendy', 'Tortuga', 'Jeffrey Welch'),\n ('Derek', 'Gato', 'Jeffrey Welch'),\n ('Cindy', 'Perro', 'Mark Garza PhD'),\n ('Patricia', 'Gato', 'Mark Garza PhD'),\n ('Daniel', 'Conejo', 'Mark Garza PhD'),\n ('Marie', 'Tortuga', 'Mark Garza PhD'),\n ('Jeremy', 'Conejo', 'Mark Garza PhD'),\n ('Charles', 'Gato', 'James Garcia'),\n ('Justin', 'Pez', 'James Garcia'),\n ('Darrell', 'Tortuga', 'James Garcia'),\n ('Kathy', 'Gato', 'James Garcia'),\n ('Peter', 'Perro', 'Zachary Lawson'),\n ('Amanda', 'Pájaro', 'Zachary Lawson'),\n ('Teresa', 'Conejo', 'Zachary Lawson'),\n ('Carlos', 'Pájaro', 'Zachary Lawson'),\n ('John', 'Gato', 'Zachary Lawson'),\n ('David', 'Conejo', 'Pamela Christensen'),\n ('Michelle', 'Tortuga', 'Pamela Christensen'),\n ('Jonathan', 'Tortuga', 'Pamela Christensen'),\n ('Joseph', 'Tortuga', 'Pamela Christensen'),\n ('Joshua', 'Conejo', 'Nicholas Kim'),\n ('John', 'Gato', 'Nicholas Kim'),\n ('Michael', 'Gato', 'Nicholas Kim'),\n ('Timothy', 'Gato', 'Nicholas Kim'),\n ('Carolyn', 'Gato', 'Colin Cooper'),\n ('Mary', 'Tortuga', 'Colin Cooper'),\n ('Penny', 'Hámster', 'Colin Cooper'),\n ('Douglas', 'Gato', 'Colin Cooper'),\n ('William', 'Perro', 'Kristy King'),\n ('Tiffany', 'Gato', 'Kristy King'),\n ('Patricia', 'Pez', 'Kristy King'),\n ('Brittany', 'Tortuga', 'Kristy King'),\n ('Katelyn', 'Perro', 'Kristy King'),\n ('Bryan', 'Pájaro', 'Kristy King'),\n ('Karen', 'Pájaro', 'Steven Parks DDS'),\n ('James', 'Hámster', 'Steven Parks DDS'),\n ('Douglas', 'Conejo', 'Steven Parks DDS'),\n ('Kathy', 'Conejo', 'Stephen Ruiz'),\n ('Danielle', 'Perro', 'Stephen Ruiz'),\n ('Kimberly', 'Tortuga', 'Stephen Ruiz'),\n ('Susan', 'Pájaro', 'Andrea Lee'),\n ('Crystal', 'Tortuga', 'Andrea Lee'),\n ('James', 'Pájaro', 'Andrea Lee'),\n ('Kathryn', 'Hámster', 'Robert Franklin'),\n ('Carolyn', 'Hámster', 'Robert Franklin'),\n ('Geoffrey', 'Perro', 'Robert Franklin'),\n ('Tracey', 'Pez', 'Ann Fitzgerald'),\n ('Barbara', 'Perro', 'Ann Fitzgerald'),\n ('Julie', 'Perro', 'Ann Fitzgerald'),\n ('Jessica', 'Pájaro', 'Ann Fitzgerald'),\n ('Dale', 'Tortuga', 'John Case'),\n ('Stanley', 'Conejo', 'John Case'),\n ('Justin', 'Gato', 'John Case'),\n ('Crystal', 'Tortuga', 'John Case'),\n ('Douglas', 'Tortuga', 'Paul Martinez'),\n ('Grace', 'Gato', 'Paul Martinez'),\n ('Mark', 'Tortuga', 'Paul Martinez'),\n ('Timothy', 'Tortuga', 'Paul Martinez'),\n ('William', 'Conejo', 'Paul Martinez'),\n ('Erin', 'Gato', 'Whitney Peters'),\n ('Amanda', 'Tortuga', 'Whitney Peters'),\n ('Elizabeth', 'Hámster', 'Whitney Peters'),\n ('Benjamin', 'Tortuga', 'Whitney Peters'),\n ('Jonathan', 'Perro', 'Louis Powell'),\n ('Michelle', 'Hámster', 'Louis Powell'),\n ('Joe', 'Tortuga', 'Louis Powell'),\n ('Diana', 'Gato', 'Louis Powell'),\n ('Kimberly', 'Conejo', 'Louis Powell'),\n ('Adriana', 'Conejo', 'Louis Powell'),\n ('David', 'Conejo', 'Anthony Pearson'),\n ('Robert', 'Hámster', 'Anthony Pearson'),\n ('Caitlin', 'Conejo', 'Anthony Pearson'),\n ('Jamie', 'Pez', 'Anthony Pearson'),\n ('Michael', 'Perro', 'Anthony Pearson'),\n ('Robert', 'Perro', 'Anthony Pearson'),\n ('Mallory', 'Conejo', 'Brandy Nguyen'),\n ('David', 'Pájaro', 'Dr. Krista Diaz'),\n ('Angela', 'Hámster', 'Dr. Krista Diaz'),\n ('Jennifer', 'Tortuga', 'Tammy Smith'),\n ('Michelle', 'Perro', 'Tammy Smith'),\n ('Scott', 'Conejo', 'Tammy Smith'),\n ('Tracy', 'Hámster', 'Eric Mccullough'),\n ('Bill', 'Pájaro', 'Eric Mccullough'),\n ('Dana', 'Gato', 'Eric Mccullough'),\n ('James', 'Conejo', 'Eric Mccullough'),\n ('Amy', 'Perro', 'Eric Mccullough'),\n ('Heather', 'Pájaro', 'Eric Mccullough'),\n ('David', 'Perro', 'Eric Mccullough'),\n ('Thomas', 'Tortuga', 'Eric Mccullough'),\n ('Jesse', 'Gato', 'Eric Mccullough'),\n ('Amy', 'Pájaro', 'Eric Mccullough'),\n ('Nicholas', 'Conejo', 'Justin Nunez'),\n ('Justin', 'Gato', 'Justin Nunez'),\n ('Gina', 'Conejo', 'Justin Nunez'),\n ('Wesley', 'Pájaro', 'Justin Nunez'),\n ('Nancy', 'Hámster', 'Justin Nunez'),\n ('Stacey', 'Perro', 'Justin Nunez'),\n ('Edward', 'Pájaro', 'Kimberly Hernandez'),\n ('Sarah', 'Conejo', 'Kimberly Hernandez'),\n ('Sheri', 'Tortuga', 'Kimberly Hernandez'),\n ('Michael', 'Hámster', 'Kimberly Hernandez'),\n ('Carl', 'Perro', 'Evelyn Fitzgerald'),\n ('Stephanie', 'Pájaro', 'Evelyn Fitzgerald'),\n ('Terri', 'Pez', 'Evelyn Fitzgerald'),\n ('Haley', 'Perro', 'Evelyn Fitzgerald'),\n ('John', 'Conejo', 'Anna Moran'),\n ('Debbie', 'Perro', 'Anna Moran'),\n ('Kevin', 'Perro', 'Anna Moran'),\n ('Jeremy', 'Conejo', 'Anna Moran'),\n ('Alexis', 'Gato', 'Tracy Spears'),\n ('Michael', 'Perro', 'Tracy Spears'),\n ('Christopher', 'Conejo', 'Tracy Spears'),\n ('Angela', 'Pez', 'Tracy Spears'),\n ('Richard', 'Perro', 'Matthew Miller'),\n ('Sheila', 'Tortuga', 'Matthew Miller'),\n ('Seth', 'Pez', 'Phillip Keith'),\n ('Veronica', 'Hámster', 'Phillip Keith'),\n ('Omar', 'Tortuga', 'Phillip Keith'),\n ('William', 'Hámster', 'Phillip Keith'),\n ('Amanda', 'Perro', 'Jerry Barker'),\n ('Chelsea', 'Gato', 'Jerry Barker'),\n ('Brandon', 'Hámster', 'Joshua Johnson'),\n ('Stacy', 'Conejo', 'Joshua Johnson'),\n ('Brian', 'Conejo', 'Crystal Logan'),\n ('Matthew', 'Hámster', 'Crystal Logan'),\n ('Victoria', 'Hámster', 'Dr. Jason Delgado'),\n ('Phillip', 'Tortuga', 'Dr. Jason Delgado'),\n ('Kristina', 'Hámster', 'Dr. Jason Delgado'),\n ('Catherine', 'Pájaro', 'Dr. Jason Delgado'),\n ('Levi', 'Pez', 'Dr. Jason Delgado'),\n ('John', 'Conejo', 'Dr. Jason Delgado'),\n ('Laura', 'Conejo', 'Carolyn Roberts'),\n ('Theresa', 'Perro', 'Carolyn Roberts'),\n ('Christopher', 'Tortuga', 'Carolyn Roberts'),\n ('Amanda', 'Pez', 'Alexandra Brock'),\n ('Peter', 'Pez', 'Alexandra Brock'),\n ('John', 'Gato', 'Alexandra Brock'),\n ('Randy', 'Hámster', 'Alexandra Brock'),\n ('Bobby', 'Hámster', 'Alexandra Brock'),\n ('Monica', 'Perro', 'Alexandra Brock'),\n ('Duane', 'Pez', 'Alexandra Brock'),\n ('Charles', 'Gato', 'Terrance Berger'),\n ('Shannon', 'Gato', 'Terrance Berger'),\n ('Dawn', 'Conejo', 'Terrance Berger'),\n ('Heather', 'Gato', 'Terrance Berger'),\n ('Monique', 'Tortuga', 'Terrance Berger'),\n ('Karen', 'Conejo', 'Curtis Carlson'),\n ('Beth', 'Tortuga', 'Curtis Carlson'),\n ('Laura', 'Perro', 'Jennifer Huerta'),\n ('Sandra', 'Pez', 'Jennifer Huerta'),\n ('Michael', 'Tortuga', 'Jennifer Huerta'),\n ('Logan', 'Hámster', 'Jennifer Huerta'),\n ('Marie', 'Perro', 'Lori Daniel'),\n ('Jennifer', 'Tortuga', 'Lori Daniel'),\n ('Joel', 'Pez', 'Lori Daniel'),\n ('Tina', 'Gato', 'Lori Daniel'),\n ('Heather', 'Pájaro', 'Lori Daniel'),\n ('Erin', 'Pájaro', 'Lori Daniel'),\n ('Dana', 'Pájaro', 'James Castro'),\n ('Julie', 'Conejo', 'James Castro'),\n ('Amy', 'Pez', 'James Castro'),\n ('Lori', 'Conejo', 'Jerry Hall'),\n ('Crystal', 'Hámster', 'Jerry Hall'),\n ('Tina', 'Conejo', 'Jerry Hall'),\n ('Tiffany', 'Tortuga', 'Jerry Hall'),\n ('Joel', 'Pájaro', 'Jonathan Hicks'),\n ('David', 'Pez', 'Jonathan Hicks'),\n ('Leah', 'Pájaro', 'Stephanie Alexander'),\n ('Judy', 'Perro', 'Stephanie Alexander'),\n ('Jennifer', 'Pez', 'Stephanie Alexander'),\n ('Brenda', 'Pájaro', 'Stephanie Alexander'),\n ('Shawn', 'Pájaro', 'Anne Dennis'),\n ('David', 'Conejo', 'Michael Robinson'),\n ('Mason', 'Hámster', 'Michael Robinson'),\n ('Kayla', 'Hámster', 'Amanda Curry'),\n ('Jennifer', 'Conejo', 'Amanda Curry'),\n ('Susan', 'Conejo', 'Amanda Curry')]"
     ]
    }
   ],
   "source": [
    "#imprimimos el resultado:\n",
    "resultado_1.collect()"
   ]
  },
  {
   "cell_type": "code",
   "execution_count": 0,
   "metadata": {
    "application/vnd.databricks.v1+cell": {
     "cellMetadata": {
      "byteLimit": 2048000,
      "rowLimit": 10000
     },
     "inputWidgets": {},
     "nuid": "16bcddda-eeb3-42c3-8ac0-be853b2e1f9f",
     "showTitle": false,
     "tableResultSettingsMap": {},
     "title": ""
    }
   },
   "outputs": [
    {
     "output_type": "display_data",
     "data": {
      "text/plain": [
       "\u001B[0;31m---------------------------------------------------------------------------\u001B[0m\n",
       "\u001B[0;31mPy4JJavaError\u001B[0m                             Traceback (most recent call last)\n",
       "File \u001B[0;32m<command-2835976314711983>:2\u001B[0m\n",
       "\u001B[1;32m      1\u001B[0m \u001B[38;5;66;03m#guardamos el resultado:\u001B[39;00m\n",
       "\u001B[0;32m----> 2\u001B[0m \u001B[43mresultado_1\u001B[49m\u001B[38;5;241;43m.\u001B[39;49m\u001B[43msaveAsTextFile\u001B[49m\u001B[43m(\u001B[49m\u001B[38;5;124;43m\"\u001B[39;49m\u001B[38;5;124;43m/FileStore/output/tarea_1_parte_1\u001B[39;49m\u001B[38;5;124;43m\"\u001B[39;49m\u001B[43m)\u001B[49m\n",
       "\n",
       "File \u001B[0;32m/databricks/spark/python/pyspark/instrumentation_utils.py:48\u001B[0m, in \u001B[0;36m_wrap_function.<locals>.wrapper\u001B[0;34m(*args, **kwargs)\u001B[0m\n",
       "\u001B[1;32m     46\u001B[0m start \u001B[38;5;241m=\u001B[39m time\u001B[38;5;241m.\u001B[39mperf_counter()\n",
       "\u001B[1;32m     47\u001B[0m \u001B[38;5;28;01mtry\u001B[39;00m:\n",
       "\u001B[0;32m---> 48\u001B[0m     res \u001B[38;5;241m=\u001B[39m \u001B[43mfunc\u001B[49m\u001B[43m(\u001B[49m\u001B[38;5;241;43m*\u001B[39;49m\u001B[43margs\u001B[49m\u001B[43m,\u001B[49m\u001B[43m \u001B[49m\u001B[38;5;241;43m*\u001B[39;49m\u001B[38;5;241;43m*\u001B[39;49m\u001B[43mkwargs\u001B[49m\u001B[43m)\u001B[49m\n",
       "\u001B[1;32m     49\u001B[0m     logger\u001B[38;5;241m.\u001B[39mlog_success(\n",
       "\u001B[1;32m     50\u001B[0m         module_name, class_name, function_name, time\u001B[38;5;241m.\u001B[39mperf_counter() \u001B[38;5;241m-\u001B[39m start, signature\n",
       "\u001B[1;32m     51\u001B[0m     )\n",
       "\u001B[1;32m     52\u001B[0m     \u001B[38;5;28;01mreturn\u001B[39;00m res\n",
       "\n",
       "File \u001B[0;32m/databricks/spark/python/pyspark/rdd.py:3432\u001B[0m, in \u001B[0;36mRDD.saveAsTextFile\u001B[0;34m(self, path, compressionCodecClass)\u001B[0m\n",
       "\u001B[1;32m   3430\u001B[0m     \u001B[38;5;28mself\u001B[39m\u001B[38;5;241m.\u001B[39mctx\u001B[38;5;241m.\u001B[39m_jvm\u001B[38;5;241m.\u001B[39mPythonRDD\u001B[38;5;241m.\u001B[39msaveAsTextFileImpl(keyed\u001B[38;5;241m.\u001B[39m_jrdd, path, compressionCodecClass)\n",
       "\u001B[1;32m   3431\u001B[0m \u001B[38;5;28;01melse\u001B[39;00m:\n",
       "\u001B[0;32m-> 3432\u001B[0m     \u001B[38;5;28;43mself\u001B[39;49m\u001B[38;5;241;43m.\u001B[39;49m\u001B[43mctx\u001B[49m\u001B[38;5;241;43m.\u001B[39;49m\u001B[43m_jvm\u001B[49m\u001B[38;5;241;43m.\u001B[39;49m\u001B[43mPythonRDD\u001B[49m\u001B[38;5;241;43m.\u001B[39;49m\u001B[43msaveAsTextFileImpl\u001B[49m\u001B[43m(\u001B[49m\u001B[43mkeyed\u001B[49m\u001B[38;5;241;43m.\u001B[39;49m\u001B[43m_jrdd\u001B[49m\u001B[43m,\u001B[49m\u001B[43m \u001B[49m\u001B[43mpath\u001B[49m\u001B[43m)\u001B[49m\n",
       "\n",
       "File \u001B[0;32m/databricks/spark/python/lib/py4j-0.10.9.5-src.zip/py4j/java_gateway.py:1321\u001B[0m, in \u001B[0;36mJavaMember.__call__\u001B[0;34m(self, *args)\u001B[0m\n",
       "\u001B[1;32m   1315\u001B[0m command \u001B[38;5;241m=\u001B[39m proto\u001B[38;5;241m.\u001B[39mCALL_COMMAND_NAME \u001B[38;5;241m+\u001B[39m\\\n",
       "\u001B[1;32m   1316\u001B[0m     \u001B[38;5;28mself\u001B[39m\u001B[38;5;241m.\u001B[39mcommand_header \u001B[38;5;241m+\u001B[39m\\\n",
       "\u001B[1;32m   1317\u001B[0m     args_command \u001B[38;5;241m+\u001B[39m\\\n",
       "\u001B[1;32m   1318\u001B[0m     proto\u001B[38;5;241m.\u001B[39mEND_COMMAND_PART\n",
       "\u001B[1;32m   1320\u001B[0m answer \u001B[38;5;241m=\u001B[39m \u001B[38;5;28mself\u001B[39m\u001B[38;5;241m.\u001B[39mgateway_client\u001B[38;5;241m.\u001B[39msend_command(command)\n",
       "\u001B[0;32m-> 1321\u001B[0m return_value \u001B[38;5;241m=\u001B[39m \u001B[43mget_return_value\u001B[49m\u001B[43m(\u001B[49m\n",
       "\u001B[1;32m   1322\u001B[0m \u001B[43m    \u001B[49m\u001B[43manswer\u001B[49m\u001B[43m,\u001B[49m\u001B[43m \u001B[49m\u001B[38;5;28;43mself\u001B[39;49m\u001B[38;5;241;43m.\u001B[39;49m\u001B[43mgateway_client\u001B[49m\u001B[43m,\u001B[49m\u001B[43m \u001B[49m\u001B[38;5;28;43mself\u001B[39;49m\u001B[38;5;241;43m.\u001B[39;49m\u001B[43mtarget_id\u001B[49m\u001B[43m,\u001B[49m\u001B[43m \u001B[49m\u001B[38;5;28;43mself\u001B[39;49m\u001B[38;5;241;43m.\u001B[39;49m\u001B[43mname\u001B[49m\u001B[43m)\u001B[49m\n",
       "\u001B[1;32m   1324\u001B[0m \u001B[38;5;28;01mfor\u001B[39;00m temp_arg \u001B[38;5;129;01min\u001B[39;00m temp_args:\n",
       "\u001B[1;32m   1325\u001B[0m     temp_arg\u001B[38;5;241m.\u001B[39m_detach()\n",
       "\n",
       "File \u001B[0;32m/databricks/spark/python/pyspark/errors/exceptions.py:228\u001B[0m, in \u001B[0;36mcapture_sql_exception.<locals>.deco\u001B[0;34m(*a, **kw)\u001B[0m\n",
       "\u001B[1;32m    226\u001B[0m \u001B[38;5;28;01mdef\u001B[39;00m \u001B[38;5;21mdeco\u001B[39m(\u001B[38;5;241m*\u001B[39ma: Any, \u001B[38;5;241m*\u001B[39m\u001B[38;5;241m*\u001B[39mkw: Any) \u001B[38;5;241m-\u001B[39m\u001B[38;5;241m>\u001B[39m Any:\n",
       "\u001B[1;32m    227\u001B[0m     \u001B[38;5;28;01mtry\u001B[39;00m:\n",
       "\u001B[0;32m--> 228\u001B[0m         \u001B[38;5;28;01mreturn\u001B[39;00m \u001B[43mf\u001B[49m\u001B[43m(\u001B[49m\u001B[38;5;241;43m*\u001B[39;49m\u001B[43ma\u001B[49m\u001B[43m,\u001B[49m\u001B[43m \u001B[49m\u001B[38;5;241;43m*\u001B[39;49m\u001B[38;5;241;43m*\u001B[39;49m\u001B[43mkw\u001B[49m\u001B[43m)\u001B[49m\n",
       "\u001B[1;32m    229\u001B[0m     \u001B[38;5;28;01mexcept\u001B[39;00m Py4JJavaError \u001B[38;5;28;01mas\u001B[39;00m e:\n",
       "\u001B[1;32m    230\u001B[0m         converted \u001B[38;5;241m=\u001B[39m convert_exception(e\u001B[38;5;241m.\u001B[39mjava_exception)\n",
       "\n",
       "File \u001B[0;32m/databricks/spark/python/lib/py4j-0.10.9.5-src.zip/py4j/protocol.py:326\u001B[0m, in \u001B[0;36mget_return_value\u001B[0;34m(answer, gateway_client, target_id, name)\u001B[0m\n",
       "\u001B[1;32m    324\u001B[0m value \u001B[38;5;241m=\u001B[39m OUTPUT_CONVERTER[\u001B[38;5;28mtype\u001B[39m](answer[\u001B[38;5;241m2\u001B[39m:], gateway_client)\n",
       "\u001B[1;32m    325\u001B[0m \u001B[38;5;28;01mif\u001B[39;00m answer[\u001B[38;5;241m1\u001B[39m] \u001B[38;5;241m==\u001B[39m REFERENCE_TYPE:\n",
       "\u001B[0;32m--> 326\u001B[0m     \u001B[38;5;28;01mraise\u001B[39;00m Py4JJavaError(\n",
       "\u001B[1;32m    327\u001B[0m         \u001B[38;5;124m\"\u001B[39m\u001B[38;5;124mAn error occurred while calling \u001B[39m\u001B[38;5;132;01m{0}\u001B[39;00m\u001B[38;5;132;01m{1}\u001B[39;00m\u001B[38;5;132;01m{2}\u001B[39;00m\u001B[38;5;124m.\u001B[39m\u001B[38;5;130;01m\\n\u001B[39;00m\u001B[38;5;124m\"\u001B[39m\u001B[38;5;241m.\u001B[39m\n",
       "\u001B[1;32m    328\u001B[0m         \u001B[38;5;28mformat\u001B[39m(target_id, \u001B[38;5;124m\"\u001B[39m\u001B[38;5;124m.\u001B[39m\u001B[38;5;124m\"\u001B[39m, name), value)\n",
       "\u001B[1;32m    329\u001B[0m \u001B[38;5;28;01melse\u001B[39;00m:\n",
       "\u001B[1;32m    330\u001B[0m     \u001B[38;5;28;01mraise\u001B[39;00m Py4JError(\n",
       "\u001B[1;32m    331\u001B[0m         \u001B[38;5;124m\"\u001B[39m\u001B[38;5;124mAn error occurred while calling \u001B[39m\u001B[38;5;132;01m{0}\u001B[39;00m\u001B[38;5;132;01m{1}\u001B[39;00m\u001B[38;5;132;01m{2}\u001B[39;00m\u001B[38;5;124m. Trace:\u001B[39m\u001B[38;5;130;01m\\n\u001B[39;00m\u001B[38;5;132;01m{3}\u001B[39;00m\u001B[38;5;130;01m\\n\u001B[39;00m\u001B[38;5;124m\"\u001B[39m\u001B[38;5;241m.\u001B[39m\n",
       "\u001B[1;32m    332\u001B[0m         \u001B[38;5;28mformat\u001B[39m(target_id, \u001B[38;5;124m\"\u001B[39m\u001B[38;5;124m.\u001B[39m\u001B[38;5;124m\"\u001B[39m, name, value))\n",
       "\n",
       "\u001B[0;31mPy4JJavaError\u001B[0m: An error occurred while calling z:org.apache.spark.api.python.PythonRDD.saveAsTextFileImpl.\n",
       ": org.apache.hadoop.mapred.FileAlreadyExistsException: Output directory dbfs:/FileStore/output/tarea_1_parte_1 already exists\n",
       "\tat org.apache.hadoop.mapred.FileOutputFormat.checkOutputSpecs(FileOutputFormat.java:131)\n",
       "\tat org.apache.spark.internal.io.HadoopMapRedWriteConfigUtil.assertConf(SparkHadoopWriter.scala:303)\n",
       "\tat org.apache.spark.internal.io.SparkHadoopWriter$.write(SparkHadoopWriter.scala:75)\n",
       "\tat org.apache.spark.rdd.PairRDDFunctions.$anonfun$saveAsHadoopDataset$1(PairRDDFunctions.scala:1091)\n",
       "\tat scala.runtime.java8.JFunction0$mcV$sp.apply(JFunction0$mcV$sp.java:23)\n",
       "\tat org.apache.spark.rdd.RDDOperationScope$.withScope(RDDOperationScope.scala:165)\n",
       "\tat org.apache.spark.rdd.RDDOperationScope$.withScope(RDDOperationScope.scala:125)\n",
       "\tat org.apache.spark.rdd.RDDOperationScope$.withScope(RDDOperationScope.scala:112)\n",
       "\tat org.apache.spark.rdd.RDD.withScope(RDD.scala:445)\n",
       "\tat org.apache.spark.rdd.PairRDDFunctions.saveAsHadoopDataset(PairRDDFunctions.scala:1089)\n",
       "\tat org.apache.spark.rdd.PairRDDFunctions.$anonfun$saveAsHadoopFile$4(PairRDDFunctions.scala:1062)\n",
       "\tat scala.runtime.java8.JFunction0$mcV$sp.apply(JFunction0$mcV$sp.java:23)\n",
       "\tat org.apache.spark.rdd.RDDOperationScope$.withScope(RDDOperationScope.scala:165)\n",
       "\tat org.apache.spark.rdd.RDDOperationScope$.withScope(RDDOperationScope.scala:125)\n",
       "\tat org.apache.spark.rdd.RDDOperationScope$.withScope(RDDOperationScope.scala:112)\n",
       "\tat org.apache.spark.rdd.RDD.withScope(RDD.scala:445)\n",
       "\tat org.apache.spark.rdd.PairRDDFunctions.saveAsHadoopFile(PairRDDFunctions.scala:1027)\n",
       "\tat org.apache.spark.rdd.PairRDDFunctions.$anonfun$saveAsHadoopFile$3(PairRDDFunctions.scala:1009)\n",
       "\tat scala.runtime.java8.JFunction0$mcV$sp.apply(JFunction0$mcV$sp.java:23)\n",
       "\tat org.apache.spark.rdd.RDDOperationScope$.withScope(RDDOperationScope.scala:165)\n",
       "\tat org.apache.spark.rdd.RDDOperationScope$.withScope(RDDOperationScope.scala:125)\n",
       "\tat org.apache.spark.rdd.RDDOperationScope$.withScope(RDDOperationScope.scala:112)\n",
       "\tat org.apache.spark.rdd.RDD.withScope(RDD.scala:445)\n",
       "\tat org.apache.spark.rdd.PairRDDFunctions.saveAsHadoopFile(PairRDDFunctions.scala:1008)\n",
       "\tat org.apache.spark.rdd.PairRDDFunctions.$anonfun$saveAsHadoopFile$2(PairRDDFunctions.scala:965)\n",
       "\tat scala.runtime.java8.JFunction0$mcV$sp.apply(JFunction0$mcV$sp.java:23)\n",
       "\tat org.apache.spark.rdd.RDDOperationScope$.withScope(RDDOperationScope.scala:165)\n",
       "\tat org.apache.spark.rdd.RDDOperationScope$.withScope(RDDOperationScope.scala:125)\n",
       "\tat org.apache.spark.rdd.RDDOperationScope$.withScope(RDDOperationScope.scala:112)\n",
       "\tat org.apache.spark.rdd.RDD.withScope(RDD.scala:445)\n",
       "\tat org.apache.spark.rdd.PairRDDFunctions.saveAsHadoopFile(PairRDDFunctions.scala:963)\n",
       "\tat org.apache.spark.rdd.RDD.$anonfun$saveAsTextFile$2(RDD.scala:1650)\n",
       "\tat scala.runtime.java8.JFunction0$mcV$sp.apply(JFunction0$mcV$sp.java:23)\n",
       "\tat org.apache.spark.rdd.RDDOperationScope$.withScope(RDDOperationScope.scala:165)\n",
       "\tat org.apache.spark.rdd.RDDOperationScope$.withScope(RDDOperationScope.scala:125)\n",
       "\tat org.apache.spark.rdd.RDDOperationScope$.withScope(RDDOperationScope.scala:112)\n",
       "\tat org.apache.spark.rdd.RDD.withScope(RDD.scala:445)\n",
       "\tat org.apache.spark.rdd.RDD.saveAsTextFile(RDD.scala:1650)\n",
       "\tat org.apache.spark.rdd.RDD.$anonfun$saveAsTextFile$1(RDD.scala:1636)\n",
       "\tat scala.runtime.java8.JFunction0$mcV$sp.apply(JFunction0$mcV$sp.java:23)\n",
       "\tat org.apache.spark.rdd.RDDOperationScope$.withScope(RDDOperationScope.scala:165)\n",
       "\tat org.apache.spark.rdd.RDDOperationScope$.withScope(RDDOperationScope.scala:125)\n",
       "\tat org.apache.spark.rdd.RDDOperationScope$.withScope(RDDOperationScope.scala:112)\n",
       "\tat org.apache.spark.rdd.RDD.withScope(RDD.scala:445)\n",
       "\tat org.apache.spark.rdd.RDD.saveAsTextFile(RDD.scala:1636)\n",
       "\tat org.apache.spark.api.java.JavaRDDLike.saveAsTextFile(JavaRDDLike.scala:573)\n",
       "\tat org.apache.spark.api.java.JavaRDDLike.saveAsTextFile$(JavaRDDLike.scala:572)\n",
       "\tat org.apache.spark.api.java.AbstractJavaRDDLike.saveAsTextFile(JavaRDDLike.scala:45)\n",
       "\tat org.apache.spark.api.python.PythonRDD$._saveAsTextFile(PythonRDD.scala:913)\n",
       "\tat org.apache.spark.api.python.PythonRDD$.saveAsTextFileImpl(PythonRDD.scala:881)\n",
       "\tat org.apache.spark.api.python.PythonRDD.saveAsTextFileImpl(PythonRDD.scala)\n",
       "\tat sun.reflect.NativeMethodAccessorImpl.invoke0(Native Method)\n",
       "\tat sun.reflect.NativeMethodAccessorImpl.invoke(NativeMethodAccessorImpl.java:62)\n",
       "\tat sun.reflect.DelegatingMethodAccessorImpl.invoke(DelegatingMethodAccessorImpl.java:43)\n",
       "\tat java.lang.reflect.Method.invoke(Method.java:498)\n",
       "\tat py4j.reflection.MethodInvoker.invoke(MethodInvoker.java:244)\n",
       "\tat py4j.reflection.ReflectionEngine.invoke(ReflectionEngine.java:380)\n",
       "\tat py4j.Gateway.invoke(Gateway.java:306)\n",
       "\tat py4j.commands.AbstractCommand.invokeMethod(AbstractCommand.java:132)\n",
       "\tat py4j.commands.CallCommand.execute(CallCommand.java:79)\n",
       "\tat py4j.ClientServerConnection.waitForCommands(ClientServerConnection.java:195)\n",
       "\tat py4j.ClientServerConnection.run(ClientServerConnection.java:115)\n",
       "\tat java.lang.Thread.run(Thread.java:750)\n"
      ]
     },
     "metadata": {
      "application/vnd.databricks.v1+output": {
       "arguments": {},
       "data": "\u001B[0;31m---------------------------------------------------------------------------\u001B[0m\n\u001B[0;31mPy4JJavaError\u001B[0m                             Traceback (most recent call last)\nFile \u001B[0;32m<command-2835976314711983>:2\u001B[0m\n\u001B[1;32m      1\u001B[0m \u001B[38;5;66;03m#guardamos el resultado:\u001B[39;00m\n\u001B[0;32m----> 2\u001B[0m \u001B[43mresultado_1\u001B[49m\u001B[38;5;241;43m.\u001B[39;49m\u001B[43msaveAsTextFile\u001B[49m\u001B[43m(\u001B[49m\u001B[38;5;124;43m\"\u001B[39;49m\u001B[38;5;124;43m/FileStore/output/tarea_1_parte_1\u001B[39;49m\u001B[38;5;124;43m\"\u001B[39;49m\u001B[43m)\u001B[49m\n\nFile \u001B[0;32m/databricks/spark/python/pyspark/instrumentation_utils.py:48\u001B[0m, in \u001B[0;36m_wrap_function.<locals>.wrapper\u001B[0;34m(*args, **kwargs)\u001B[0m\n\u001B[1;32m     46\u001B[0m start \u001B[38;5;241m=\u001B[39m time\u001B[38;5;241m.\u001B[39mperf_counter()\n\u001B[1;32m     47\u001B[0m \u001B[38;5;28;01mtry\u001B[39;00m:\n\u001B[0;32m---> 48\u001B[0m     res \u001B[38;5;241m=\u001B[39m \u001B[43mfunc\u001B[49m\u001B[43m(\u001B[49m\u001B[38;5;241;43m*\u001B[39;49m\u001B[43margs\u001B[49m\u001B[43m,\u001B[49m\u001B[43m \u001B[49m\u001B[38;5;241;43m*\u001B[39;49m\u001B[38;5;241;43m*\u001B[39;49m\u001B[43mkwargs\u001B[49m\u001B[43m)\u001B[49m\n\u001B[1;32m     49\u001B[0m     logger\u001B[38;5;241m.\u001B[39mlog_success(\n\u001B[1;32m     50\u001B[0m         module_name, class_name, function_name, time\u001B[38;5;241m.\u001B[39mperf_counter() \u001B[38;5;241m-\u001B[39m start, signature\n\u001B[1;32m     51\u001B[0m     )\n\u001B[1;32m     52\u001B[0m     \u001B[38;5;28;01mreturn\u001B[39;00m res\n\nFile \u001B[0;32m/databricks/spark/python/pyspark/rdd.py:3432\u001B[0m, in \u001B[0;36mRDD.saveAsTextFile\u001B[0;34m(self, path, compressionCodecClass)\u001B[0m\n\u001B[1;32m   3430\u001B[0m     \u001B[38;5;28mself\u001B[39m\u001B[38;5;241m.\u001B[39mctx\u001B[38;5;241m.\u001B[39m_jvm\u001B[38;5;241m.\u001B[39mPythonRDD\u001B[38;5;241m.\u001B[39msaveAsTextFileImpl(keyed\u001B[38;5;241m.\u001B[39m_jrdd, path, compressionCodecClass)\n\u001B[1;32m   3431\u001B[0m \u001B[38;5;28;01melse\u001B[39;00m:\n\u001B[0;32m-> 3432\u001B[0m     \u001B[38;5;28;43mself\u001B[39;49m\u001B[38;5;241;43m.\u001B[39;49m\u001B[43mctx\u001B[49m\u001B[38;5;241;43m.\u001B[39;49m\u001B[43m_jvm\u001B[49m\u001B[38;5;241;43m.\u001B[39;49m\u001B[43mPythonRDD\u001B[49m\u001B[38;5;241;43m.\u001B[39;49m\u001B[43msaveAsTextFileImpl\u001B[49m\u001B[43m(\u001B[49m\u001B[43mkeyed\u001B[49m\u001B[38;5;241;43m.\u001B[39;49m\u001B[43m_jrdd\u001B[49m\u001B[43m,\u001B[49m\u001B[43m \u001B[49m\u001B[43mpath\u001B[49m\u001B[43m)\u001B[49m\n\nFile \u001B[0;32m/databricks/spark/python/lib/py4j-0.10.9.5-src.zip/py4j/java_gateway.py:1321\u001B[0m, in \u001B[0;36mJavaMember.__call__\u001B[0;34m(self, *args)\u001B[0m\n\u001B[1;32m   1315\u001B[0m command \u001B[38;5;241m=\u001B[39m proto\u001B[38;5;241m.\u001B[39mCALL_COMMAND_NAME \u001B[38;5;241m+\u001B[39m\\\n\u001B[1;32m   1316\u001B[0m     \u001B[38;5;28mself\u001B[39m\u001B[38;5;241m.\u001B[39mcommand_header \u001B[38;5;241m+\u001B[39m\\\n\u001B[1;32m   1317\u001B[0m     args_command \u001B[38;5;241m+\u001B[39m\\\n\u001B[1;32m   1318\u001B[0m     proto\u001B[38;5;241m.\u001B[39mEND_COMMAND_PART\n\u001B[1;32m   1320\u001B[0m answer \u001B[38;5;241m=\u001B[39m \u001B[38;5;28mself\u001B[39m\u001B[38;5;241m.\u001B[39mgateway_client\u001B[38;5;241m.\u001B[39msend_command(command)\n\u001B[0;32m-> 1321\u001B[0m return_value \u001B[38;5;241m=\u001B[39m \u001B[43mget_return_value\u001B[49m\u001B[43m(\u001B[49m\n\u001B[1;32m   1322\u001B[0m \u001B[43m    \u001B[49m\u001B[43manswer\u001B[49m\u001B[43m,\u001B[49m\u001B[43m \u001B[49m\u001B[38;5;28;43mself\u001B[39;49m\u001B[38;5;241;43m.\u001B[39;49m\u001B[43mgateway_client\u001B[49m\u001B[43m,\u001B[49m\u001B[43m \u001B[49m\u001B[38;5;28;43mself\u001B[39;49m\u001B[38;5;241;43m.\u001B[39;49m\u001B[43mtarget_id\u001B[49m\u001B[43m,\u001B[49m\u001B[43m \u001B[49m\u001B[38;5;28;43mself\u001B[39;49m\u001B[38;5;241;43m.\u001B[39;49m\u001B[43mname\u001B[49m\u001B[43m)\u001B[49m\n\u001B[1;32m   1324\u001B[0m \u001B[38;5;28;01mfor\u001B[39;00m temp_arg \u001B[38;5;129;01min\u001B[39;00m temp_args:\n\u001B[1;32m   1325\u001B[0m     temp_arg\u001B[38;5;241m.\u001B[39m_detach()\n\nFile \u001B[0;32m/databricks/spark/python/pyspark/errors/exceptions.py:228\u001B[0m, in \u001B[0;36mcapture_sql_exception.<locals>.deco\u001B[0;34m(*a, **kw)\u001B[0m\n\u001B[1;32m    226\u001B[0m \u001B[38;5;28;01mdef\u001B[39;00m \u001B[38;5;21mdeco\u001B[39m(\u001B[38;5;241m*\u001B[39ma: Any, \u001B[38;5;241m*\u001B[39m\u001B[38;5;241m*\u001B[39mkw: Any) \u001B[38;5;241m-\u001B[39m\u001B[38;5;241m>\u001B[39m Any:\n\u001B[1;32m    227\u001B[0m     \u001B[38;5;28;01mtry\u001B[39;00m:\n\u001B[0;32m--> 228\u001B[0m         \u001B[38;5;28;01mreturn\u001B[39;00m \u001B[43mf\u001B[49m\u001B[43m(\u001B[49m\u001B[38;5;241;43m*\u001B[39;49m\u001B[43ma\u001B[49m\u001B[43m,\u001B[49m\u001B[43m \u001B[49m\u001B[38;5;241;43m*\u001B[39;49m\u001B[38;5;241;43m*\u001B[39;49m\u001B[43mkw\u001B[49m\u001B[43m)\u001B[49m\n\u001B[1;32m    229\u001B[0m     \u001B[38;5;28;01mexcept\u001B[39;00m Py4JJavaError \u001B[38;5;28;01mas\u001B[39;00m e:\n\u001B[1;32m    230\u001B[0m         converted \u001B[38;5;241m=\u001B[39m convert_exception(e\u001B[38;5;241m.\u001B[39mjava_exception)\n\nFile \u001B[0;32m/databricks/spark/python/lib/py4j-0.10.9.5-src.zip/py4j/protocol.py:326\u001B[0m, in \u001B[0;36mget_return_value\u001B[0;34m(answer, gateway_client, target_id, name)\u001B[0m\n\u001B[1;32m    324\u001B[0m value \u001B[38;5;241m=\u001B[39m OUTPUT_CONVERTER[\u001B[38;5;28mtype\u001B[39m](answer[\u001B[38;5;241m2\u001B[39m:], gateway_client)\n\u001B[1;32m    325\u001B[0m \u001B[38;5;28;01mif\u001B[39;00m answer[\u001B[38;5;241m1\u001B[39m] \u001B[38;5;241m==\u001B[39m REFERENCE_TYPE:\n\u001B[0;32m--> 326\u001B[0m     \u001B[38;5;28;01mraise\u001B[39;00m Py4JJavaError(\n\u001B[1;32m    327\u001B[0m         \u001B[38;5;124m\"\u001B[39m\u001B[38;5;124mAn error occurred while calling \u001B[39m\u001B[38;5;132;01m{0}\u001B[39;00m\u001B[38;5;132;01m{1}\u001B[39;00m\u001B[38;5;132;01m{2}\u001B[39;00m\u001B[38;5;124m.\u001B[39m\u001B[38;5;130;01m\\n\u001B[39;00m\u001B[38;5;124m\"\u001B[39m\u001B[38;5;241m.\u001B[39m\n\u001B[1;32m    328\u001B[0m         \u001B[38;5;28mformat\u001B[39m(target_id, \u001B[38;5;124m\"\u001B[39m\u001B[38;5;124m.\u001B[39m\u001B[38;5;124m\"\u001B[39m, name), value)\n\u001B[1;32m    329\u001B[0m \u001B[38;5;28;01melse\u001B[39;00m:\n\u001B[1;32m    330\u001B[0m     \u001B[38;5;28;01mraise\u001B[39;00m Py4JError(\n\u001B[1;32m    331\u001B[0m         \u001B[38;5;124m\"\u001B[39m\u001B[38;5;124mAn error occurred while calling \u001B[39m\u001B[38;5;132;01m{0}\u001B[39;00m\u001B[38;5;132;01m{1}\u001B[39;00m\u001B[38;5;132;01m{2}\u001B[39;00m\u001B[38;5;124m. Trace:\u001B[39m\u001B[38;5;130;01m\\n\u001B[39;00m\u001B[38;5;132;01m{3}\u001B[39;00m\u001B[38;5;130;01m\\n\u001B[39;00m\u001B[38;5;124m\"\u001B[39m\u001B[38;5;241m.\u001B[39m\n\u001B[1;32m    332\u001B[0m         \u001B[38;5;28mformat\u001B[39m(target_id, \u001B[38;5;124m\"\u001B[39m\u001B[38;5;124m.\u001B[39m\u001B[38;5;124m\"\u001B[39m, name, value))\n\n\u001B[0;31mPy4JJavaError\u001B[0m: An error occurred while calling z:org.apache.spark.api.python.PythonRDD.saveAsTextFileImpl.\n: org.apache.hadoop.mapred.FileAlreadyExistsException: Output directory dbfs:/FileStore/output/tarea_1_parte_1 already exists\n\tat org.apache.hadoop.mapred.FileOutputFormat.checkOutputSpecs(FileOutputFormat.java:131)\n\tat org.apache.spark.internal.io.HadoopMapRedWriteConfigUtil.assertConf(SparkHadoopWriter.scala:303)\n\tat org.apache.spark.internal.io.SparkHadoopWriter$.write(SparkHadoopWriter.scala:75)\n\tat org.apache.spark.rdd.PairRDDFunctions.$anonfun$saveAsHadoopDataset$1(PairRDDFunctions.scala:1091)\n\tat scala.runtime.java8.JFunction0$mcV$sp.apply(JFunction0$mcV$sp.java:23)\n\tat org.apache.spark.rdd.RDDOperationScope$.withScope(RDDOperationScope.scala:165)\n\tat org.apache.spark.rdd.RDDOperationScope$.withScope(RDDOperationScope.scala:125)\n\tat org.apache.spark.rdd.RDDOperationScope$.withScope(RDDOperationScope.scala:112)\n\tat org.apache.spark.rdd.RDD.withScope(RDD.scala:445)\n\tat org.apache.spark.rdd.PairRDDFunctions.saveAsHadoopDataset(PairRDDFunctions.scala:1089)\n\tat org.apache.spark.rdd.PairRDDFunctions.$anonfun$saveAsHadoopFile$4(PairRDDFunctions.scala:1062)\n\tat scala.runtime.java8.JFunction0$mcV$sp.apply(JFunction0$mcV$sp.java:23)\n\tat org.apache.spark.rdd.RDDOperationScope$.withScope(RDDOperationScope.scala:165)\n\tat org.apache.spark.rdd.RDDOperationScope$.withScope(RDDOperationScope.scala:125)\n\tat org.apache.spark.rdd.RDDOperationScope$.withScope(RDDOperationScope.scala:112)\n\tat org.apache.spark.rdd.RDD.withScope(RDD.scala:445)\n\tat org.apache.spark.rdd.PairRDDFunctions.saveAsHadoopFile(PairRDDFunctions.scala:1027)\n\tat org.apache.spark.rdd.PairRDDFunctions.$anonfun$saveAsHadoopFile$3(PairRDDFunctions.scala:1009)\n\tat scala.runtime.java8.JFunction0$mcV$sp.apply(JFunction0$mcV$sp.java:23)\n\tat org.apache.spark.rdd.RDDOperationScope$.withScope(RDDOperationScope.scala:165)\n\tat org.apache.spark.rdd.RDDOperationScope$.withScope(RDDOperationScope.scala:125)\n\tat org.apache.spark.rdd.RDDOperationScope$.withScope(RDDOperationScope.scala:112)\n\tat org.apache.spark.rdd.RDD.withScope(RDD.scala:445)\n\tat org.apache.spark.rdd.PairRDDFunctions.saveAsHadoopFile(PairRDDFunctions.scala:1008)\n\tat org.apache.spark.rdd.PairRDDFunctions.$anonfun$saveAsHadoopFile$2(PairRDDFunctions.scala:965)\n\tat scala.runtime.java8.JFunction0$mcV$sp.apply(JFunction0$mcV$sp.java:23)\n\tat org.apache.spark.rdd.RDDOperationScope$.withScope(RDDOperationScope.scala:165)\n\tat org.apache.spark.rdd.RDDOperationScope$.withScope(RDDOperationScope.scala:125)\n\tat org.apache.spark.rdd.RDDOperationScope$.withScope(RDDOperationScope.scala:112)\n\tat org.apache.spark.rdd.RDD.withScope(RDD.scala:445)\n\tat org.apache.spark.rdd.PairRDDFunctions.saveAsHadoopFile(PairRDDFunctions.scala:963)\n\tat org.apache.spark.rdd.RDD.$anonfun$saveAsTextFile$2(RDD.scala:1650)\n\tat scala.runtime.java8.JFunction0$mcV$sp.apply(JFunction0$mcV$sp.java:23)\n\tat org.apache.spark.rdd.RDDOperationScope$.withScope(RDDOperationScope.scala:165)\n\tat org.apache.spark.rdd.RDDOperationScope$.withScope(RDDOperationScope.scala:125)\n\tat org.apache.spark.rdd.RDDOperationScope$.withScope(RDDOperationScope.scala:112)\n\tat org.apache.spark.rdd.RDD.withScope(RDD.scala:445)\n\tat org.apache.spark.rdd.RDD.saveAsTextFile(RDD.scala:1650)\n\tat org.apache.spark.rdd.RDD.$anonfun$saveAsTextFile$1(RDD.scala:1636)\n\tat scala.runtime.java8.JFunction0$mcV$sp.apply(JFunction0$mcV$sp.java:23)\n\tat org.apache.spark.rdd.RDDOperationScope$.withScope(RDDOperationScope.scala:165)\n\tat org.apache.spark.rdd.RDDOperationScope$.withScope(RDDOperationScope.scala:125)\n\tat org.apache.spark.rdd.RDDOperationScope$.withScope(RDDOperationScope.scala:112)\n\tat org.apache.spark.rdd.RDD.withScope(RDD.scala:445)\n\tat org.apache.spark.rdd.RDD.saveAsTextFile(RDD.scala:1636)\n\tat org.apache.spark.api.java.JavaRDDLike.saveAsTextFile(JavaRDDLike.scala:573)\n\tat org.apache.spark.api.java.JavaRDDLike.saveAsTextFile$(JavaRDDLike.scala:572)\n\tat org.apache.spark.api.java.AbstractJavaRDDLike.saveAsTextFile(JavaRDDLike.scala:45)\n\tat org.apache.spark.api.python.PythonRDD$._saveAsTextFile(PythonRDD.scala:913)\n\tat org.apache.spark.api.python.PythonRDD$.saveAsTextFileImpl(PythonRDD.scala:881)\n\tat org.apache.spark.api.python.PythonRDD.saveAsTextFileImpl(PythonRDD.scala)\n\tat sun.reflect.NativeMethodAccessorImpl.invoke0(Native Method)\n\tat sun.reflect.NativeMethodAccessorImpl.invoke(NativeMethodAccessorImpl.java:62)\n\tat sun.reflect.DelegatingMethodAccessorImpl.invoke(DelegatingMethodAccessorImpl.java:43)\n\tat java.lang.reflect.Method.invoke(Method.java:498)\n\tat py4j.reflection.MethodInvoker.invoke(MethodInvoker.java:244)\n\tat py4j.reflection.ReflectionEngine.invoke(ReflectionEngine.java:380)\n\tat py4j.Gateway.invoke(Gateway.java:306)\n\tat py4j.commands.AbstractCommand.invokeMethod(AbstractCommand.java:132)\n\tat py4j.commands.CallCommand.execute(CallCommand.java:79)\n\tat py4j.ClientServerConnection.waitForCommands(ClientServerConnection.java:195)\n\tat py4j.ClientServerConnection.run(ClientServerConnection.java:115)\n\tat java.lang.Thread.run(Thread.java:750)\n",
       "errorSummary": "org.apache.hadoop.mapred.FileAlreadyExistsException: Output directory dbfs:/FileStore/output/tarea_1_parte_1 already exists",
       "errorTraceType": "ansi",
       "metadata": {},
       "type": "ipynbError"
      }
     },
     "output_type": "display_data"
    }
   ],
   "source": [
    "#guardamos el resultado:\n",
    "resultado_1.saveAsTextFile(\"/FileStore/output/tarea_1_parte_1\")"
   ]
  },
  {
   "cell_type": "markdown",
   "metadata": {
    "application/vnd.databricks.v1+cell": {
     "cellMetadata": {},
     "inputWidgets": {},
     "nuid": "c79df56f-d068-4e62-b348-0487cbdf36ee",
     "showTitle": false,
     "tableResultSettingsMap": {},
     "title": ""
    }
   },
   "source": [
    "Parte 2: Crea un programa que devuelve, para cada numero identificador y nombre de persona, el número de mascotas que posee. En otras palabras, para cada persona en tus datos, tu programa debería mostrar el ID de la persona, su nombre, y el número total de mascotas que esa persona tiene."
   ]
  },
  {
   "cell_type": "code",
   "execution_count": 0,
   "metadata": {
    "application/vnd.databricks.v1+cell": {
     "cellMetadata": {
      "byteLimit": 2048000,
      "rowLimit": 10000
     },
     "inputWidgets": {},
     "nuid": "6dd2ad9a-5754-40b4-9d42-46a9e73f1b6e",
     "showTitle": false,
     "tableResultSettingsMap": {},
     "title": ""
    }
   },
   "outputs": [],
   "source": [
    "#aplicamos map y reduce para contar cantidad de mascotas por dueño:\n",
    "conteo_mascotas = mascotas.map(lambda m: (m[3], 1)).reduceByKey(lambda a, b: a + b)  # (id_dueño, num_mascotas)"
   ]
  },
  {
   "cell_type": "code",
   "execution_count": 0,
   "metadata": {
    "application/vnd.databricks.v1+cell": {
     "cellMetadata": {
      "byteLimit": 2048000,
      "rowLimit": 10000
     },
     "inputWidgets": {},
     "nuid": "7e1cd70c-e745-4282-a9c0-b762d99d92d9",
     "showTitle": false,
     "tableResultSettingsMap": {},
     "title": ""
    }
   },
   "outputs": [],
   "source": [
    "#hacemos el segundo join con el conteo realizado:\n",
    "resultado_2 = conteo_mascotas.join(personas_1).map(lambda x: (x[0], x[1][1], x[1][0]))  # (id_persona, nombre_persona, num_mascotas)"
   ]
  },
  {
   "cell_type": "code",
   "execution_count": 0,
   "metadata": {
    "application/vnd.databricks.v1+cell": {
     "cellMetadata": {
      "byteLimit": 2048000,
      "rowLimit": 10000
     },
     "inputWidgets": {},
     "nuid": "3a01d99f-ada3-4b03-a101-8e6bcb8ceec9",
     "showTitle": false,
     "tableResultSettingsMap": {},
     "title": ""
    }
   },
   "outputs": [],
   "source": [
    "#ordenamos los datos por id_persona:\n",
    "resultado_2 = resultado_2.sortBy(lambda x: int(x[0]))  # Ordena por id_persona (convertido a int)"
   ]
  },
  {
   "cell_type": "code",
   "execution_count": 0,
   "metadata": {
    "application/vnd.databricks.v1+cell": {
     "cellMetadata": {
      "byteLimit": 2048000,
      "rowLimit": 10000
     },
     "inputWidgets": {},
     "nuid": "da5e9170-a357-4a13-8429-52b3ebd0e943",
     "showTitle": false,
     "tableResultSettingsMap": {},
     "title": ""
    }
   },
   "outputs": [
    {
     "output_type": "stream",
     "name": "stdout",
     "output_type": "stream",
     "text": [
      "Out[46]: [('1', 'Matthew Miller', 2),\n ('2', 'Anne Dennis', 1),\n ('3', 'Stephen Ruiz', 3),\n ('4', 'Renee Scott MD', 7),\n ('5', 'Terrance Berger', 5),\n ('6', 'Tammy Smith', 3),\n ('7', 'Colin Cooper', 4),\n ('8', 'Evelyn Fitzgerald', 4),\n ('9', 'Dr. Jason Delgado', 6),\n ('10', 'Mark Garza PhD', 5),\n ('11', 'Jonathan Hicks', 2),\n ('12', 'Christopher Stewart', 2),\n ('13', 'Stephanie Alexander', 4),\n ('14', 'Kimberly Hernandez', 4),\n ('15', 'Brandy Nguyen', 1),\n ('16', 'Pamela Christensen', 4),\n ('17', 'Jerry Barker', 2),\n ('18', 'John Case', 4),\n ('19', 'Anna Moran', 4),\n ('20', 'Jeffrey Welch', 4),\n ('21', 'Eric Mccullough', 10),\n ('22', 'Joshua Johnson', 2),\n ('23', 'Paul Martinez', 5),\n ('24', 'Daniel Hardin', 6),\n ('25', 'Kristy King', 6),\n ('26', 'Nicholas Kim', 4),\n ('27', 'Jerry Hall', 4),\n ('28', 'James Castro', 3),\n ('29', 'Tracy Spears', 4),\n ('30', 'Anthony Pearson', 6),\n ('31', 'Andrea Lee', 3),\n ('32', 'Dr. Krista Diaz', 2),\n ('33', 'Justin Nunez', 6),\n ('34', 'Phillip Keith', 4),\n ('35', 'Jennifer Huerta', 4),\n ('36', 'Robert Franklin', 3),\n ('37', 'Lori Daniel', 6),\n ('38', 'Alexandra Brock', 7),\n ('39', 'Michael Robinson', 2),\n ('40', 'Zachary Lawson', 5),\n ('41', 'Curtis Carlson', 2),\n ('42', 'Whitney Peters', 4),\n ('43', 'Louis Powell', 6),\n ('44', 'Shane Arroyo', 6),\n ('45', 'Crystal Logan', 2),\n ('46', 'Amanda Curry', 3),\n ('47', 'Steven Parks DDS', 3),\n ('48', 'Carolyn Roberts', 3),\n ('49', 'Ann Fitzgerald', 4),\n ('50', 'James Garcia', 4)]"
     ]
    }
   ],
   "source": [
    "#imprimimos el resultado:\n",
    "resultado_2.collect()"
   ]
  },
  {
   "cell_type": "code",
   "execution_count": 0,
   "metadata": {
    "application/vnd.databricks.v1+cell": {
     "cellMetadata": {
      "byteLimit": 2048000,
      "rowLimit": 10000
     },
     "inputWidgets": {},
     "nuid": "c46097b8-ea16-4384-b45c-d85de647531f",
     "showTitle": false,
     "tableResultSettingsMap": {},
     "title": ""
    }
   },
   "outputs": [],
   "source": [
    "#guardamos el resultado:\n",
    "resultado_2.saveAsTextFile(\"/FileStore/output/tarea_1_parte_2\")\n"
   ]
  }
 ],
 "metadata": {
  "application/vnd.databricks.v1+notebook": {
   "computePreferences": null,
   "dashboards": [],
   "environmentMetadata": {
    "base_environment": "",
    "client": "1"
   },
   "language": "python",
   "notebookMetadata": {
    "pythonIndentUnit": 4
   },
   "notebookName": "Tarea 1",
   "widgets": {}
  }
 },
 "nbformat": 4,
 "nbformat_minor": 0
}
